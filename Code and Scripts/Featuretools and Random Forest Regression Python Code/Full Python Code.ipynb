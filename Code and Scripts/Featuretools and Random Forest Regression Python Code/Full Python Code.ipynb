{
 "cells": [
  {
   "cell_type": "code",
   "execution_count": null,
   "id": "ec6b868e",
   "metadata": {},
   "outputs": [],
   "source": [
    "#Importing the required libraries\n",
    "\n",
    "import featuretools as ft\n",
    "import pandas as pd\n",
    "from sklearn.ensemble import RandomForestRegressor\n",
    "from sklearn.model_selection import train_test_split\n",
    "from sklearn.feature_selection import SelectFromModel\n",
    "from sklearn.metrics import accuracy_score\n",
    "import warnings\n",
    "warnings.filterwarnings('ignore')"
   ]
  },
  {
   "cell_type": "code",
   "execution_count": null,
   "id": "5bdf374d",
   "metadata": {},
   "outputs": [],
   "source": [
    "df = pd.read_csv('data_basket.csv') #Reading the merged and cleaned dataset "
   ]
  },
  {
   "cell_type": "code",
   "execution_count": null,
   "id": "9a26fbcb",
   "metadata": {},
   "outputs": [],
   "source": [
    "df.columns #Display the dataset columns"
   ]
  },
  {
   "cell_type": "code",
   "execution_count": null,
   "id": "c094aba1",
   "metadata": {},
   "outputs": [],
   "source": [
    "#Defining the product entity\n",
    "\n",
    "df_product = df[['product_id', 'manufacturer', 'department', 'brand','commodity_desc', 'sub_commodity_desc']].drop_duplicates()"
   ]
  },
  {
   "cell_type": "code",
   "execution_count": null,
   "id": "58e02721",
   "metadata": {},
   "outputs": [],
   "source": [
    "df_product"
   ]
  },
  {
   "cell_type": "code",
   "execution_count": null,
   "id": "138e1368",
   "metadata": {},
   "outputs": [],
   "source": [
    "#Defining the household entity\n",
    "\n",
    "df_household = df[['household_key', 'age_desc', 'marital_status_code',\n",
    "                   'income_desc', 'homeowner_desc', 'hh_comp_desc', 'household_size_desc',\n",
    "                   'kid_category_desc']].drop_duplicates()"
   ]
  },
  {
   "cell_type": "code",
   "execution_count": null,
   "id": "b764b873",
   "metadata": {},
   "outputs": [],
   "source": [
    "df_household"
   ]
  },
  {
   "cell_type": "code",
   "execution_count": null,
   "id": "01d73457",
   "metadata": {},
   "outputs": [],
   "source": [
    "#Defining the transaction entity \n",
    "\n",
    "df_transaction = df[['household_key', 'basket_id', 'date_time', 'product_id', 'quantity',\n",
    "                     'store_id', 'sales_value', 'discount', 'basket_sales_value',\n",
    "                     'basket_discount', 'week_no']]"
   ]
  },
  {
   "cell_type": "code",
   "execution_count": null,
   "id": "e0511348",
   "metadata": {},
   "outputs": [],
   "source": [
    "df_transaction.reset_index(inplace = True, drop = False)"
   ]
  },
  {
   "cell_type": "code",
   "execution_count": null,
   "id": "9568fa28",
   "metadata": {},
   "outputs": [],
   "source": [
    "df_transaction"
   ]
  },
  {
   "cell_type": "code",
   "execution_count": null,
   "id": "84c7d76c",
   "metadata": {},
   "outputs": [],
   "source": [
    "#Defining the entityset\n",
    "\n",
    "es = ft.EntitySet(id = 'Testing')"
   ]
  },
  {
   "cell_type": "code",
   "execution_count": null,
   "id": "cf682d71",
   "metadata": {},
   "outputs": [],
   "source": [
    "#Defining the entities and its primary keys\n",
    "\n",
    "es = es.add_dataframe(dataframe_name = 'product', dataframe = df_product, index = 'product_id')\n",
    "es = es.add_dataframe(dataframe_name = 'household', dataframe = df_household, index = 'household_key')\n",
    "es = es.add_dataframe(dataframe_name = 'transaction', dataframe = df_transaction, index = 'index')"
   ]
  },
  {
   "cell_type": "code",
   "execution_count": null,
   "id": "2a9e0fd0",
   "metadata": {},
   "outputs": [],
   "source": [
    "#Defining the relationships between entities\n",
    "\n",
    "es = es.add_relationship('household', 'household_key', 'transaction', 'household_key')\n",
    "es = es.add_relationship('product', 'product_id', 'transaction', 'product_id')"
   ]
  },
  {
   "cell_type": "code",
   "execution_count": null,
   "id": "2369adfe",
   "metadata": {},
   "outputs": [],
   "source": [
    "#Generating the features and put it all in one matrix or list\n",
    "\n",
    "feature_matrix, feature_defs = ft.dfs(entityset = es,\n",
    "                                     target_dataframe_name = 'transaction')"
   ]
  },
  {
   "cell_type": "code",
   "execution_count": null,
   "id": "be2cb871",
   "metadata": {},
   "outputs": [],
   "source": [
    "feature_matrix"
   ]
  },
  {
   "cell_type": "code",
   "execution_count": null,
   "id": "a28bb0ab",
   "metadata": {},
   "outputs": [],
   "source": [
    "feature_defs"
   ]
  },
  {
   "cell_type": "code",
   "execution_count": null,
   "id": "d0f90ccd",
   "metadata": {},
   "outputs": [],
   "source": [
    "X = feature_matrix.iloc[:, 25:] #Features that we want to analyse, all non-float columns are disregarded\n",
    "y = feature_matrix['basket_sales_value'] #Target variable "
   ]
  },
  {
   "cell_type": "code",
   "execution_count": null,
   "id": "04fc5d11",
   "metadata": {},
   "outputs": [],
   "source": [
    "X_train, X_test, y_train, y_test = train_test_split(X, y, test_size=0.2, random_state=42) #Splitting the train and test set"
   ]
  },
  {
   "cell_type": "code",
   "execution_count": null,
   "id": "820e4f7a",
   "metadata": {},
   "outputs": [],
   "source": [
    "#Initializing the Random Forest Regressor algorithm with the default parameters\n",
    "\n",
    "rf_regressor = RandomForestRegressor(n_estimators=10, random_state=42)\n",
    "rf_regressor.fit(X_train, y_train)"
   ]
  },
  {
   "cell_type": "code",
   "execution_count": null,
   "id": "a8a1ffa2",
   "metadata": {},
   "outputs": [],
   "source": [
    "#Using the algorithm to get the feature importances\n",
    "\n",
    "feature_importances = pd.Series(rf_regressor.feature_importances_, index=X.columns)"
   ]
  },
  {
   "cell_type": "code",
   "execution_count": null,
   "id": "455f6c1c",
   "metadata": {},
   "outputs": [],
   "source": [
    "#Putting the importances of features into one dataframe for analysis convenience\n",
    "\n",
    "feature_importances_pd = pd.DataFrame({\"Features\" : pd.DataFrame(X_train).columns, \"Importances\" : feature_importances})"
   ]
  },
  {
   "cell_type": "code",
   "execution_count": null,
   "id": "c60cdd44",
   "metadata": {},
   "outputs": [],
   "source": [
    "feature_importances_pd.set_index(\"Importances\")"
   ]
  },
  {
   "cell_type": "code",
   "execution_count": null,
   "id": "a78b5b7e",
   "metadata": {},
   "outputs": [],
   "source": [
    "feature_importances_pd = feature_importances_pd.sort_values(\"Importances\")"
   ]
  },
  {
   "cell_type": "code",
   "execution_count": null,
   "id": "e2163fe3",
   "metadata": {},
   "outputs": [],
   "source": [
    "feature_importances_pd"
   ]
  },
  {
   "cell_type": "code",
   "execution_count": null,
   "id": "52660057",
   "metadata": {},
   "outputs": [],
   "source": [
    "#Plotting the importances of features into one bar chart\n",
    "\n",
    "feature_importances_pd.tail(10).plot.bar(color = 'teal') #The importances sorted"
   ]
  },
  {
   "cell_type": "code",
   "execution_count": null,
   "id": "d23c7d8c",
   "metadata": {},
   "outputs": [],
   "source": [
    "#Setting the threshold 0.05\n",
    "\n",
    "sfm = SelectFromModel(rf_regressor, threshold=0.05) \n",
    "sfm.fit(X_train, y_train)"
   ]
  },
  {
   "cell_type": "code",
   "execution_count": null,
   "id": "a3f99423",
   "metadata": {},
   "outputs": [],
   "source": [
    "X_train_selected = sfm.transform(X_train)\n",
    "X_test_selected = sfm.transform(X_test)"
   ]
  },
  {
   "cell_type": "code",
   "execution_count": null,
   "id": "be873fb1",
   "metadata": {},
   "outputs": [],
   "source": [
    "#Using the get_support() function to display the features that exceed the threshold value\n",
    "\n",
    "selected_feature_names = X.columns[sfm.get_support()]"
   ]
  },
  {
   "cell_type": "code",
   "execution_count": null,
   "id": "3e9029a8",
   "metadata": {},
   "outputs": [],
   "source": [
    "selected_feature_names #Outputting the selected features based on the Random Forest Regressor algorithm"
   ]
  }
 ],
 "metadata": {
  "kernelspec": {
   "display_name": "Python 3 (ipykernel)",
   "language": "python",
   "name": "python3"
  },
  "language_info": {
   "codemirror_mode": {
    "name": "ipython",
    "version": 3
   },
   "file_extension": ".py",
   "mimetype": "text/x-python",
   "name": "python",
   "nbconvert_exporter": "python",
   "pygments_lexer": "ipython3",
   "version": "3.9.4"
  }
 },
 "nbformat": 4,
 "nbformat_minor": 5
}
